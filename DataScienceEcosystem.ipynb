{
 "cells": [
  {
   "cell_type": "markdown",
   "id": "71ac8603-bdab-4ef1-bae4-0f509025c0e8",
   "metadata": {},
   "source": [
    "# Data Science Tools and Ecosystem"
   ]
  },
  {
   "cell_type": "markdown",
   "id": "81f05481-f6a7-49d6-ae89-6951a0259b99",
   "metadata": {},
   "source": [
    "## In this notebook, Data Science Tools and Ecosystem are sumarized."
   ]
  },
  {
   "cell_type": "markdown",
   "id": "9712c658-912e-46b5-87b4-e2e8b44791ce",
   "metadata": {},
   "source": [
    "## **Objectives:**\n",
    "* List popular languages for Data Scientists\n",
    "- Commonly used libraries by Data Scientists\n",
    "* Data Science tools"
   ]
  },
  {
   "cell_type": "markdown",
   "id": "e83c6084-52d8-4b13-ad23-6dd5f69095e6",
   "metadata": {},
   "source": [
    "## Some of the popular languages that Dara Scientists use are:"
   ]
  },
  {
   "cell_type": "code",
   "execution_count": 7,
   "id": "958483f8-e5a6-44d2-a385-de532bf390e3",
   "metadata": {},
   "outputs": [
    {
     "name": "stdout",
     "output_type": "stream",
     "text": [
      "['Python', 'SQL', 'R']\n"
     ]
    }
   ],
   "source": [
    "my_list = [\"Python\", \"SQL\", \"R\"]\n",
    "print(my_list)"
   ]
  },
  {
   "cell_type": "code",
   "execution_count": 4,
   "id": "d67feba8-3b99-4a1b-83b1-fdcd07597f1c",
   "metadata": {},
   "outputs": [
    {
     "name": "stdout",
     "output_type": "stream",
     "text": [
      "my_list: ['Python', 'SQL', 'R']\n"
     ]
    }
   ],
   "source": [
    "print(f\"my_list: {my_list}\")"
   ]
  },
  {
   "cell_type": "markdown",
   "id": "263c61d7-608e-41c3-89d9-8263ce12d6fa",
   "metadata": {},
   "source": [
    "## Some of the popular languages that Dara Scientists use are:"
   ]
  },
  {
   "cell_type": "code",
   "execution_count": 6,
   "id": "cae3c989-df28-4d90-bb4d-6639cd6d7dc2",
   "metadata": {
    "scrolled": true
   },
   "outputs": [
    {
     "name": "stdout",
     "output_type": "stream",
     "text": [
      "1. Python\n",
      "2. SQL\n",
      "3. R\n"
     ]
    }
   ],
   "source": [
    "for i, my_list in enumerate(my_list, 1):\n",
    "    print(f\"{i}. {my_list}\")"
   ]
  },
  {
   "cell_type": "markdown",
   "id": "b01fdd98-78cf-4f30-b29b-f3e217aa7702",
   "metadata": {},
   "source": [
    "## Some of the commonly used libraries used by Data Scientists include:"
   ]
  },
  {
   "cell_type": "code",
   "execution_count": 8,
   "id": "5a700e25-f3fa-4e09-b913-08aa4c79c51e",
   "metadata": {},
   "outputs": [
    {
     "name": "stdout",
     "output_type": "stream",
     "text": [
      "1.NumPy\n",
      "2.Pandas\n",
      "3.Scickit-learn\n",
      "4.Matplotlib\n"
     ]
    }
   ],
   "source": [
    "Libraries = [\"NumPy\", \"Pandas\", \"Scickit-learn\", \"Matplotlib\"]\n",
    "for i, Libraries in enumerate(Libraries, 1):\n",
    "    print(f\"{i}.{Libraries}\")"
   ]
  },
  {
   "cell_type": "markdown",
   "id": "3687cab0-7cff-4564-8ee8-c9a54e6fd5b5",
   "metadata": {},
   "source": [
    "## Data Science Tools"
   ]
  },
  {
   "cell_type": "code",
   "execution_count": 32,
   "id": "efa55eeb-5cbe-4415-a93e-5305df2b3481",
   "metadata": {},
   "outputs": [
    {
     "name": "stdout",
     "output_type": "stream",
     "text": [
      "| Data Science Tools   |\n",
      "|:---------------------|\n",
      "| RStudio              |\n",
      "| Jupyter Notebook/Lab |\n",
      "| Apache Spark         |\n"
     ]
    },
    {
     "data": {
      "text/markdown": [
       "| Data Science Tools   |\n",
       "|:---------------------|\n",
       "| RStudio              |\n",
       "| Jupyter Notebook/Lab |\n",
       "| Apache Spark         |"
      ],
      "text/plain": [
       "<IPython.core.display.Markdown object>"
      ]
     },
     "metadata": {},
     "output_type": "display_data"
    }
   ],
   "source": [
    "import pandas as pd\n",
    "from IPython.display import display, Markdown\n",
    "Tools = {\n",
    "    'Data Science Tools': ['RStudio', 'Jupyter Notebook/Lab', 'Apache Spark']\n",
    "}\n",
    "\n",
    "markdown_table = df.to_markdown(index=False)\n",
    "print(markdown_table)\n",
    "display(Markdown(markdown_table))"
   ]
  },
  {
   "cell_type": "code",
   "execution_count": null,
   "id": "0def9e3d-9238-4b26-aa2e-86edf9765a26",
   "metadata": {},
   "outputs": [],
   "source": [
    "df = pd.DataFrame(Tools)\n",
    "print(\"Basic print\")\n",
    "print(df.to_string(index=False))\n",
    "\n",
    "print(\"Dataframe Display\")\n",
    "display(df)"
   ]
  },
  {
   "cell_type": "markdown",
   "id": "e8c587df-0f6e-41e0-9719-c8d1cdf34d2c",
   "metadata": {},
   "source": [
    "### Below are a few examples of evaluating arithmetic expressions in python"
   ]
  },
  {
   "cell_type": "code",
   "execution_count": 33,
   "id": "840f7962-9459-4400-ab17-beefedea8207",
   "metadata": {},
   "outputs": [
    {
     "data": {
      "text/plain": [
       "17"
      ]
     },
     "execution_count": 33,
     "metadata": {},
     "output_type": "execute_result"
    }
   ],
   "source": [
    "# This is a simple arithmetic expression to multiply then add integers \n",
    "(3*4)+5"
   ]
  },
  {
   "cell_type": "code",
   "execution_count": 37,
   "id": "9ab19042-afec-4cf8-aea3-4543ff3b8aad",
   "metadata": {},
   "outputs": [
    {
     "name": "stdout",
     "output_type": "stream",
     "text": [
      "3.33 hours\n"
     ]
    }
   ],
   "source": [
    "# This will convert 200 minutes to hours by dividing by 60\n",
    "minutes = (200)\n",
    "hours = (60)\n",
    "total = (minutes/hours)\n",
    "print(f\"{total:.2f} hours\")"
   ]
  },
  {
   "cell_type": "markdown",
   "id": "f15ed4ff-5ce1-45b3-afa5-2f18aa76054d",
   "metadata": {},
   "source": [
    "## Author\n",
    "Juan"
   ]
  },
  {
   "cell_type": "code",
   "execution_count": null,
   "id": "cebbd552-95b3-478a-bbc3-6bc060d38812",
   "metadata": {},
   "outputs": [],
   "source": []
  }
 ],
 "metadata": {
  "kernelspec": {
   "display_name": "Python [conda env:base] *",
   "language": "python",
   "name": "conda-base-py"
  },
  "language_info": {
   "codemirror_mode": {
    "name": "ipython",
    "version": 3
   },
   "file_extension": ".py",
   "mimetype": "text/x-python",
   "name": "python",
   "nbconvert_exporter": "python",
   "pygments_lexer": "ipython3",
   "version": "3.12.7"
  }
 },
 "nbformat": 4,
 "nbformat_minor": 5
}
