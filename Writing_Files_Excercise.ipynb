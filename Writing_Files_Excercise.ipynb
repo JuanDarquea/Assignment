{
  "nbformat": 4,
  "nbformat_minor": 0,
  "metadata": {
    "colab": {
      "provenance": [],
      "authorship_tag": "ABX9TyPIczXklSbjMsKGbQT9xerb",
      "include_colab_link": true
    },
    "kernelspec": {
      "name": "python3",
      "display_name": "Python 3"
    },
    "language_info": {
      "name": "python"
    }
  },
  "cells": [
    {
      "cell_type": "markdown",
      "metadata": {
        "id": "view-in-github",
        "colab_type": "text"
      },
      "source": [
        "<a href=\"https://colab.research.google.com/github/JuanDarquea/Assignment/blob/main/Writing_Files_Excercise.ipynb\" target=\"_parent\"><img src=\"https://colab.research.google.com/assets/colab-badge.svg\" alt=\"Open In Colab\"/></a>"
      ]
    },
    {
      "cell_type": "code",
      "execution_count": 8,
      "metadata": {
        "id": "OvtTM7YKcDPX"
      },
      "outputs": [],
      "source": [
        "exmp2 = 'Example2.txt' # Creating variable \"exmp2\" with the file to be created name\n",
        "with open(exmp2, \"w\") as wf: # Assining the creation and writing of the file to \"wf\"\n",
        "  wf.write(\"This is line A\\n\") # Create first line in \"Example2.txt\"\n",
        "  wf.write(\"This is line B\\n\")"
      ]
    },
    {
      "cell_type": "code",
      "source": [
        "with open(exmp2, \"r\") as twf: # Open the file inside to variable \"exmp2\" as read, and assigning the action to \"twf\"\n",
        "  print(twf.read()) # Print the whole file"
      ],
      "metadata": {
        "colab": {
          "base_uri": "https://localhost:8080/"
        },
        "id": "MUgOxyqHewXm",
        "outputId": "721ac217-86e7-41b7-a113-ba6622164f25"
      },
      "execution_count": 9,
      "outputs": [
        {
          "output_type": "stream",
          "name": "stdout",
          "text": [
            "This is line A\n",
            "This is line B\n",
            "\n"
          ]
        }
      ]
    },
    {
      "cell_type": "code",
      "source": [
        "with open(exmp2, \"w\") as wf:\n",
        "  wf.write(\"This is line C\\n\")"
      ],
      "metadata": {
        "id": "cpW9yPsSfL6D"
      },
      "execution_count": 10,
      "outputs": []
    },
    {
      "cell_type": "code",
      "source": [
        "with open(exmp2, \"r\") as twf:\n",
        "  print(twf.read())"
      ],
      "metadata": {
        "colab": {
          "base_uri": "https://localhost:8080/"
        },
        "id": "P0ZKfwUmjNr8",
        "outputId": "d1c52c4a-e34a-4c1f-d1b0-1cc06a5a8dc8"
      },
      "execution_count": 16,
      "outputs": [
        {
          "output_type": "stream",
          "name": "stdout",
          "text": [
            "This is line C\n",
            "\n"
          ]
        }
      ]
    },
    {
      "cell_type": "code",
      "source": [
        "Lines = [\"This is line A\", \"\\nThis is line B\", \"\\nThis is line C\", \"\\nThis is line D\"] # Creats a list of strings\n",
        "Lines # Shows/prints the list"
      ],
      "metadata": {
        "colab": {
          "base_uri": "https://localhost:8080/"
        },
        "id": "4kYqjF7ejW_S",
        "outputId": "5a4756ff-0265-4501-f0e8-8151920d9247"
      },
      "execution_count": 34,
      "outputs": [
        {
          "output_type": "execute_result",
          "data": {
            "text/plain": [
              "['This is line A', '\\nThis is line B', '\\nThis is line C', '\\nThis is line D']"
            ]
          },
          "metadata": {},
          "execution_count": 34
        }
      ]
    },
    {
      "cell_type": "code",
      "source": [
        "with open(\"/Example2.txt\", \"w\") as wf:\n",
        "  for line in Lines: # Assigns \"line\" to the list \"Lines\"\n",
        "    print(line) # Prints list\n",
        "    wf.write(line) # Writes in file \"Example2.txt\" the content of list \"Lines\""
      ],
      "metadata": {
        "colab": {
          "base_uri": "https://localhost:8080/"
        },
        "id": "iBRCH9x2ksdh",
        "outputId": "117904a3-26d7-4cf9-af9a-e6b2ea303343"
      },
      "execution_count": 40,
      "outputs": [
        {
          "output_type": "stream",
          "name": "stdout",
          "text": [
            "This is line A\n",
            "\n",
            "This is line B\n",
            "\n",
            "This is line C\n",
            "\n",
            "This is line D\n"
          ]
        }
      ]
    },
    {
      "cell_type": "code",
      "source": [
        "with open(\"/Example2.txt\", \"r\") as twf:\n",
        "  print(twf.read())"
      ],
      "metadata": {
        "colab": {
          "base_uri": "https://localhost:8080/"
        },
        "id": "2fSbbeYGlaXJ",
        "outputId": "e7ed8526-91bb-48cf-ab57-5f210a51af2f"
      },
      "execution_count": 36,
      "outputs": [
        {
          "output_type": "stream",
          "name": "stdout",
          "text": [
            "This is line A\n",
            "This is line B\n",
            "This is line C\n",
            "This is line D\n"
          ]
        }
      ]
    },
    {
      "cell_type": "code",
      "source": [
        "with open(\"/Example2.txt\", \"w\") as wf:\n",
        "  wf.write(\"This file was overwritten\")"
      ],
      "metadata": {
        "id": "pPKOXb1VlbOi"
      },
      "execution_count": 42,
      "outputs": []
    },
    {
      "cell_type": "code",
      "source": [
        "with open(\"/Example2.txt\", \"r\") as twf:\n",
        "  print(twf.read())"
      ],
      "metadata": {
        "colab": {
          "base_uri": "https://localhost:8080/"
        },
        "id": "Vkdax1MDmDgp",
        "outputId": "84258eb5-6c56-42b0-80e7-74d2ce2809ba"
      },
      "execution_count": 43,
      "outputs": [
        {
          "output_type": "stream",
          "name": "stdout",
          "text": [
            "This file was overwritten\n"
          ]
        }
      ]
    },
    {
      "cell_type": "code",
      "source": [
        "with open(\"/Example2.txt\", \"w\") as wf:\n",
        "  for line in Lines:\n",
        "    wf.write(line)\n",
        "with open(\"/Example2.txt\", \"a\") as wf: # Open file as append\n",
        "  wf.write(\"\\nThis is line E\") # Write text to append to existing file\n",
        "  wf.write(\"\\nThis is line F\")\n",
        "Lines2 = [\"\\nThis is line G\", \"\\nThis is line H\", \"\\nThis is line I\", \"\\nThis is line J\"] # Create a second list\n",
        "with open(\"/Example2.txt\", \"a\") as wf:\n",
        "  for line in Lines2: # Assigns value to \"line\" as list \"Lines2\"\n",
        "    wf.write(line) # Writes list content as an append to the file\n",
        "with open(\"/Example2.txt\", \"r\") as twf:\n",
        "  print(twf.read())"
      ],
      "metadata": {
        "colab": {
          "base_uri": "https://localhost:8080/"
        },
        "id": "W86ye5WWmQdI",
        "outputId": "d3749303-5996-4cec-aea6-94c12f7078d3"
      },
      "execution_count": 53,
      "outputs": [
        {
          "output_type": "stream",
          "name": "stdout",
          "text": [
            "This is line A\n",
            "This is line B\n",
            "This is line C\n",
            "This is line D\n",
            "This is line E\n",
            "This is line F\n",
            "This is line G\n",
            "This is line H\n",
            "This is line I\n",
            "This is line J\n"
          ]
        }
      ]
    },
    {
      "cell_type": "code",
      "source": [
        "with open(\"/Example2.txt\", \"a+\") as twf: # Open file as append + read\n",
        "  twf.write(\"\\nThis is line K\") # Writes new lines to append to file and existing content\n",
        "  twf.write(\"\\nThis is line L\")\n",
        "  print(twf.read()) # Reads file, but from the point where the cursor is, \"a\" unlike \"w\" or \"r\", doesn't reset cursor"
      ],
      "metadata": {
        "colab": {
          "base_uri": "https://localhost:8080/"
        },
        "id": "fQC1wdvYneSI",
        "outputId": "3517b1d5-76af-4392-859a-8f724408067b"
      },
      "execution_count": 52,
      "outputs": [
        {
          "output_type": "stream",
          "name": "stdout",
          "text": [
            "\n"
          ]
        }
      ]
    },
    {
      "cell_type": "code",
      "source": [
        "with open(\"/Example2.txt\", \"a+\") as twf:\n",
        "  print(\"Initial Location: {}\".format(twf.tell())) # Print the initial location of the cursor\n",
        "\n",
        "  data = twf.read()\n",
        "  if (not data): # Assign a return if the file is empty from where the cursor is\n",
        "    print(\"Read nothing\")\n",
        "  else:\n",
        "    print(twf.read())\n",
        "\n",
        "  twf.seek(0,0) # Move cursor 0 bytes from the beggining\n",
        "  print(\"\\nNew Location: {}\".format(twf.tell())) # Print the current location of cursor\n",
        "  data = twf.read() # Assing value of the data read to \"data\"\n",
        "  if (not data): # Conditional \"if\" in case there is no data after cursor\n",
        "    print(\"Read nothing\")\n",
        "  else: # Conditional \"if\" in case there is data after cursor\n",
        "    print(data)\n",
        "\n",
        "  print(\"Location after read: {}\".format(twf.tell()))# Print the final location of cursor"
      ],
      "metadata": {
        "colab": {
          "base_uri": "https://localhost:8080/"
        },
        "id": "jomDYUWRoWGQ",
        "outputId": "0dd0ecce-e4dd-4b98-8118-d8772693e4ee"
      },
      "execution_count": 54,
      "outputs": [
        {
          "output_type": "stream",
          "name": "stdout",
          "text": [
            "Initial Location: 149\n",
            "Read nothing\n",
            "\n",
            "New Location: 0\n",
            "This is line A\n",
            "This is line B\n",
            "This is line C\n",
            "This is line D\n",
            "This is line E\n",
            "This is line F\n",
            "This is line G\n",
            "This is line H\n",
            "This is line I\n",
            "This is line J\n",
            "Location after read: 149\n"
          ]
        }
      ]
    },
    {
      "cell_type": "code",
      "source": [
        "with open('/Example2.txt', 'r+') as testwritefile:\n",
        "    testwritefile.seek(0,0) #write at beginning of file\n",
        "    testwritefile.write(\"Line 1\" + \"\\n\")\n",
        "    testwritefile.write(\"Line 2\" + \"\\n\")\n",
        "    testwritefile.write(\"Line 3\" + \"\\n\")\n",
        "    testwritefile.write(\"Line 4\" + \"\\n\")\n",
        "    testwritefile.write(\"finished\\n\")\n",
        "    testwritefile.seek(0,0)\n",
        "    print(testwritefile.read())"
      ],
      "metadata": {
        "colab": {
          "base_uri": "https://localhost:8080/"
        },
        "id": "yiICd0COsbjf",
        "outputId": "6dd25159-2c99-49de-e88a-aab26c8c5c45"
      },
      "execution_count": 55,
      "outputs": [
        {
          "output_type": "stream",
          "name": "stdout",
          "text": [
            "Line 1\n",
            "Line 2\n",
            "Line 3\n",
            "Line 4\n",
            "finished\n",
            " line C\n",
            "This is line D\n",
            "This is line E\n",
            "This is line F\n",
            "This is line G\n",
            "This is line H\n",
            "This is line I\n",
            "This is line J\n"
          ]
        }
      ]
    },
    {
      "cell_type": "code",
      "source": [
        "with open('/Example2.txt', 'r+') as testwritefile:\n",
        "    testwritefile.seek(0,0) #write at beginning of file\n",
        "    testwritefile.write(\"Line 1\" + \"\\n\")\n",
        "    testwritefile.write(\"Line 2\" + \"\\n\")\n",
        "    testwritefile.write(\"Line 3\" + \"\\n\")\n",
        "    testwritefile.write(\"Line 4\" + \"\\n\")\n",
        "    testwritefile.write(\"finished\\n\")\n",
        "    #Uncomment the line below\n",
        "    testwritefile.truncate()\n",
        "    testwritefile.seek(0,0)\n",
        "    print(testwritefile.read())"
      ],
      "metadata": {
        "colab": {
          "base_uri": "https://localhost:8080/"
        },
        "id": "cYVzSCtqtrnP",
        "outputId": "bbdc568f-afbc-4cc1-ded0-b271c0f948e4"
      },
      "execution_count": 56,
      "outputs": [
        {
          "output_type": "stream",
          "name": "stdout",
          "text": [
            "Line 1\n",
            "Line 2\n",
            "Line 3\n",
            "Line 4\n",
            "finished\n",
            "\n"
          ]
        }
      ]
    },
    {
      "cell_type": "code",
      "source": [],
      "metadata": {
        "id": "HiwAmzr7uN1V"
      },
      "execution_count": null,
      "outputs": []
    }
  ]
}